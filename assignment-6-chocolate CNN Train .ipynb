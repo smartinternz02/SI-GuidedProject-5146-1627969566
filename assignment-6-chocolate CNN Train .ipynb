{
 "cells": [
  {
   "cell_type": "code",
   "execution_count": 3,
   "metadata": {},
   "outputs": [],
   "source": [
    "\n",
    "# Import libraries\n",
    "from tensorflow.keras.models import Sequential \n",
    "from tensorflow.keras.layers import Dense, Convolution2D, MaxPooling2D, Flatten"
   ]
  },
  {
   "cell_type": "code",
   "execution_count": 4,
   "metadata": {},
   "outputs": [],
   "source": [
    "# Importing augmentation libraries\n",
    "from tensorflow.keras.preprocessing.image import ImageDataGenerator"
   ]
  },
  {
   "cell_type": "code",
   "execution_count": 5,
   "metadata": {},
   "outputs": [],
   "source": [
    "# Defining the augmentation techniques - horizontal flip, zoom range, shear range \n",
    "train_datagen = ImageDataGenerator(rescale = 1./255, shear_range = 0.2, zoom_range = 0.2, horizontal_flip = True)\n",
    "test_datagen = ImageDataGenerator(rescale = 1./255)"
   ]
  },
  {
   "cell_type": "code",
   "execution_count": 6,
   "metadata": {},
   "outputs": [
    {
     "name": "stdout",
     "output_type": "stream",
     "text": [
      "Found 640 images belonging to 5 classes.\n",
      "Found 640 images belonging to 5 classes.\n"
     ]
    }
   ],
   "source": [
    "\n",
    "# Loading the data set \n",
    "\n",
    "# Converting each image to the same size by using the target argument \n",
    "# Every epoch will have 32 images trained with batch argument\n",
    "\n",
    "x_train = train_datagen.flow_from_directory(r\"C:\\Users\\HP\\externshipcodefiles\\testset\", target_size = (64, 64), batch_size = 32, class_mode = \"categorical\")\n",
    "x_test = test_datagen.flow_from_directory(r\"C:\\Users\\HP\\externshipcodefiles\\trainset\", target_size = (64, 64), batch_size = 32, class_mode = \"categorical\")"
   ]
  },
  {
   "cell_type": "code",
   "execution_count": 7,
   "metadata": {},
   "outputs": [],
   "source": [
    "# Using sequential as the cnn modelling has a sequential flow \n",
    "cnn = Sequential()"
   ]
  },
  {
   "cell_type": "code",
   "execution_count": 9,
   "metadata": {},
   "outputs": [],
   "source": [
    "# Adding convolution layer \n",
    "cnn.add(Convolution2D(32, (3,3), input_shape = (64, 64, 3)))"
   ]
  },
  {
   "cell_type": "code",
   "execution_count": 10,
   "metadata": {},
   "outputs": [],
   "source": [
    "# Adding pooling layer \n",
    "cnn.add(MaxPooling2D(2,2))"
   ]
  },
  {
   "cell_type": "code",
   "execution_count": 11,
   "metadata": {},
   "outputs": [],
   "source": [
    "# Adding flatten layer\n",
    "cnn.add(Flatten())"
   ]
  },
  {
   "cell_type": "code",
   "execution_count": 13,
   "metadata": {},
   "outputs": [],
   "source": [
    "\n",
    "# Adding hidden layer \n",
    "cnn.add(Dense(units = 128, kernel_initializer = 'random_uniform', activation = 'relu'))"
   ]
  },
  {
   "cell_type": "code",
   "execution_count": 14,
   "metadata": {},
   "outputs": [],
   "source": [
    "# Adding the output layer with 5 units as we have 5 classes \n",
    "cnn.add(Dense(units = 5, kernel_initializer = 'random_uniform', activation = 'softmax'))"
   ]
  },
  {
   "cell_type": "code",
   "execution_count": 15,
   "metadata": {},
   "outputs": [],
   "source": [
    "# Compiling the model \n",
    "cnn.compile(optimizer = 'adam', loss = 'categorical_crossentropy', metrics = ['accuracy'])"
   ]
  },
  {
   "cell_type": "code",
   "execution_count": 16,
   "metadata": {},
   "outputs": [
    {
     "name": "stdout",
     "output_type": "stream",
     "text": [
      "Epoch 1/15\n",
      "11/10 [==============================] - 7s 638ms/step - loss: 1.3545 - acc: 0.5852 - val_loss: 1.3878 - val_acc: 0.6367\n",
      "Epoch 2/15\n",
      "11/10 [==============================] - 3s 314ms/step - loss: 1.3367 - acc: 0.6080 - val_loss: 1.3448 - val_acc: 0.6367\n",
      "Epoch 3/15\n",
      "11/10 [==============================] - 5s 443ms/step - loss: 1.3089 - acc: 0.5767 - val_loss: 1.2598 - val_acc: 0.6367\n",
      "Epoch 4/15\n",
      "11/10 [==============================] - 4s 329ms/step - loss: 1.1731 - acc: 0.6165 - val_loss: 1.2561 - val_acc: 0.6367\n",
      "Epoch 5/15\n",
      "11/10 [==============================] - 3s 307ms/step - loss: 1.2039 - acc: 0.5710 - val_loss: 1.1987 - val_acc: 0.6445\n",
      "Epoch 6/15\n",
      "11/10 [==============================] - 4s 345ms/step - loss: 1.0850 - acc: 0.6562 - val_loss: 1.1301 - val_acc: 0.6562\n",
      "Epoch 7/15\n",
      "11/10 [==============================] - 5s 414ms/step - loss: 1.0342 - acc: 0.6080 - val_loss: 1.0405 - val_acc: 0.6719\n",
      "Epoch 8/15\n",
      "11/10 [==============================] - 4s 397ms/step - loss: 1.0637 - acc: 0.6136 - val_loss: 1.0168 - val_acc: 0.6641\n",
      "Epoch 9/15\n",
      "11/10 [==============================] - 4s 362ms/step - loss: 0.8930 - acc: 0.6534 - val_loss: 0.9105 - val_acc: 0.6914\n",
      "Epoch 10/15\n",
      "11/10 [==============================] - 4s 355ms/step - loss: 0.8819 - acc: 0.6818 - val_loss: 0.8584 - val_acc: 0.7188\n",
      "Epoch 11/15\n",
      "11/10 [==============================] - 4s 336ms/step - loss: 0.8961 - acc: 0.6705 - val_loss: 1.0025 - val_acc: 0.6836\n",
      "Epoch 12/15\n",
      "11/10 [==============================] - 4s 348ms/step - loss: 0.8595 - acc: 0.6875 - val_loss: 0.8078 - val_acc: 0.7344\n",
      "Epoch 13/15\n",
      "11/10 [==============================] - 4s 337ms/step - loss: 0.8332 - acc: 0.6875 - val_loss: 0.7427 - val_acc: 0.7383\n",
      "Epoch 14/15\n",
      "11/10 [==============================] - 3s 314ms/step - loss: 0.7652 - acc: 0.7074 - val_loss: 0.7059 - val_acc: 0.7812\n",
      "Epoch 15/15\n",
      "11/10 [==============================] - 4s 356ms/step - loss: 0.7613 - acc: 0.7301 - val_loss: 0.8402 - val_acc: 0.7031\n"
     ]
    },
    {
     "data": {
      "text/plain": [
       "<tensorflow.python.keras.callbacks.History at 0x25237212048>"
      ]
     },
     "execution_count": 16,
     "metadata": {},
     "output_type": "execute_result"
    }
   ],
   "source": [
    "# Training and testing the model \n",
    "cnn.fit_generator(x_train, steps_per_epoch = 346/32, epochs = 15, validation_data = x_test, validation_steps = 230/32)"
   ]
  },
  {
   "cell_type": "code",
   "execution_count": 18,
   "metadata": {},
   "outputs": [],
   "source": [
    "\n",
    "# Saving model \n",
    "cnn.save(\"chocolate.h5\")"
   ]
  },
  {
   "cell_type": "code",
   "execution_count": null,
   "metadata": {},
   "outputs": [],
   "source": []
  }
 ],
 "metadata": {
  "kernelspec": {
   "display_name": "Python 3",
   "language": "python",
   "name": "python3"
  },
  "language_info": {
   "codemirror_mode": {
    "name": "ipython",
    "version": 3
   },
   "file_extension": ".py",
   "mimetype": "text/x-python",
   "name": "python",
   "nbconvert_exporter": "python",
   "pygments_lexer": "ipython3",
   "version": "3.7.3"
  }
 },
 "nbformat": 4,
 "nbformat_minor": 2
}
